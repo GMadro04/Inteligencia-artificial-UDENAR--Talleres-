{
 "cells": [
  {
   "cell_type": "code",
   "execution_count": 80,
   "id": "ab5ffece",
   "metadata": {},
   "outputs": [
    {
     "name": "stdout",
     "output_type": "stream",
     "text": [
      "Tamaño archivo: (100, 3) \n",
      " ------------------------- \n",
      "           X         W  b\n",
      "0   0.78051 -0.063669  1\n",
      "1   0.28774  0.291390  1\n",
      "2   0.40714  0.178780  1\n",
      "3   0.29230  0.421700  1\n",
      "4   0.50922  0.352560  1\n",
      "..      ...       ... ..\n",
      "95  0.77029  0.701400  0\n",
      "96  0.73156  0.717820  0\n",
      "97  0.44556  0.579910  0\n",
      "98  0.85275  0.859870  0\n",
      "99  0.51912  0.623590  0\n",
      "\n",
      "[100 rows x 3 columns]\n",
      "Pesos y Bias iniciales: [[-0.88039143]\n",
      " [-0.53725237]] 0.7299939418114051\n"
     ]
    }
   ],
   "source": [
    "import pandas as pd\n",
    "import numpy as np\n",
    "import matplotlib.pyplot as plt\n",
    "import random\n",
    "\n",
    "%matplotlib inline\n",
    "np.random.seed(1)\n",
    "\n",
    "file_csv = 'data.csv' # Cargo el archivo con los datos X1,X2 y Salida.\n",
    "\n",
    "data = pd.read_csv(file_csv) # Guardo datos del archivo en una variable \n",
    "\n",
    "print(\"Tamaño archivo:\",data.shape, \"\\n\", \"-------------------------\", \"\\n\", data)\n",
    "\n",
    "# Lleno los datos X_test(x1,x2) y Y_test \n",
    "data = np.array(data)\n",
    "#print(data)\n",
    "X_test=[]\n",
    "y_test=[]\n",
    "for i in range(10):\n",
    "    X_test.append([data[i,0],data[i,1]])\n",
    "    y_test.append(data[i,2])\n",
    "\n",
    "X_test = np.array(X_test) # Puntos de entrada \n",
    "y_test = np.array(y_test) # valor de clasificación \n",
    "\n",
    "W_test = np.array([[-0.88039143], [-0.53725237]])\n",
    "b_test = 0.7299939418114051\n",
    "print(\"Pesos y Bias iniciales:\", W_test,b_test)"
   ]
  },
  {
   "cell_type": "code",
   "execution_count": 81,
   "id": "78da0d18",
   "metadata": {},
   "outputs": [
    {
     "name": "stdout",
     "output_type": "stream",
     "text": [
      "[0.07704595] [0.42734318] 10\n",
      "[[0.07704595]\n",
      " [0.32012014]\n",
      " [0.2755014 ]\n",
      " [0.2460962 ]\n",
      " [0.09226732]\n",
      " [0.42734318]\n",
      " [0.30915724]\n",
      " [0.17476601]\n",
      " [0.20362843]\n",
      " [0.38932188]]\n"
     ]
    }
   ],
   "source": [
    "\"\"\" FUNCIONES \"\"\"\n",
    "# -------------------------------------- Cross entropy\n",
    "def cross_entropy(T,P):\n",
    "    out = []\n",
    "    for k in range(len(T)):\n",
    "        if T[k] == 1:\n",
    "            out.append(np.log(P[k]))\n",
    "        else:\n",
    "            out.append(np.log(1-P[k]))\n",
    "    out = np.array(out) \n",
    "    cross = -1*np.sum(out)\n",
    "    return cross\n",
    "            \n",
    "# -------------------------------------- Score\n",
    "def score(X,W,b):\n",
    "    return np.matmul(X,W)+b\n",
    "# -------------------------------------- Softmax\n",
    "def softmax(z):\n",
    "    return (np.exp(z))/np.sum(np.exp(z))\n",
    "# -------------------------------------- Sigmoid\n",
    "def sigmode(z):\n",
    "    return 1/(1+np.exp(-z))\n",
    "# --------------------------------------\n",
    "\n",
    "# Se calcula el score de los datos\n",
    "output = [] # array para llenar la salida del score\n",
    "output = score(\n",
    "    X_test,\n",
    "    W_test,\n",
    "    b_test,\n",
    ")\n",
    "\n",
    "output = np.array(output) # Salida del score \n",
    "# Imprimo el minimo y el maximo del score y el tamaño del array de los datos\n",
    "print(min(output),max(output), len(output))\n",
    "# Salida del score de los datos\n",
    "print(output)"
   ]
  },
  {
   "cell_type": "code",
   "execution_count": 82,
   "id": "748c8df6",
   "metadata": {},
   "outputs": [],
   "source": [
    "\"\"\" SE CALCULAN LAS PROBABILIDADES CON SIGMODE Y SOFTMAX \"\"\"\n",
    "pro,pro1 = [], []\n",
    "\n",
    "pro = softmax(output) # Probabilidad  softmax\n",
    "pro1 = sigmode(output) # Probabilidad sigmode\n"
   ]
  },
  {
   "cell_type": "code",
   "execution_count": 83,
   "id": "dfd1ea2e",
   "metadata": {},
   "outputs": [
    {
     "data": {
      "text/plain": [
       "Text(0.5, 1.0, 'Probabilidad softmax')"
      ]
     },
     "execution_count": 83,
     "metadata": {},
     "output_type": "execute_result"
    },
    {
     "data": {
      "image/png": "[encoded data removed]",
      "text/plain": [
       "<Figure size 432x288 with 1 Axes>"
      ]
     },
     "metadata": {
      "needs_background": "light"
     },
     "output_type": "display_data"
    }
   ],
   "source": [
    "\"\"\" GRAFICA PROBABILIDADES CON SOFTMAX\"\"\"\n",
    "# print(pro.shape)\n",
    "# print(pro)\n",
    "\n",
    "plt.figure()\n",
    "plt.scatter(pro, pro, color=\"darkblue\")\n",
    "plt.title(\"Probabilidad softmax\")"
   ]
  },
  {
   "cell_type": "code",
   "execution_count": 84,
   "id": "00997c3f",
   "metadata": {},
   "outputs": [
    {
     "data": {
      "image/png": "[encoded data removed]",
      "text/plain": [
       "<Figure size 432x288 with 1 Axes>"
      ]
     },
     "metadata": {
      "needs_background": "light"
     },
     "output_type": "display_data"
    }
   ],
   "source": [
    "\"\"\" GRAFICA PROBABILIDADES SIGMODE \"\"\"\n",
    "# print(min(pro1),max(pro1),pro1.shape)\n",
    "# print(pro1)    \n",
    "plt.scatter(pro1, pro1, color='darkred', marker='o')\n",
    "plt.title(\"Probabilidades Sigmode\")\n",
    "plt.show()"
   ]
  },
  {
   "cell_type": "code",
   "execution_count": 85,
   "id": "ea395ae8",
   "metadata": {},
   "outputs": [
    {
     "name": "stdout",
     "output_type": "stream",
     "text": [
      "Cross entropy con softmax 10.156983094416558\n",
      "Cross entropy con sigmode 7.536873899360025\n",
      "Cross entropy funcion\n",
      "Softmax = 10.156983094416558\n",
      "Sigmode = 7.536873899360025 \n"
     ]
    }
   ],
   "source": [
    "Y = np.array([0, 0, 1, 0, 1, 0, 0, 1, 1, 0]) # sE CREA UN ARRAY PARA ASIMILAR LABEL\n",
    "# print(Y.shape,len(Y))\n",
    "# print(Y[0],Y[4])\n",
    "\n",
    "A , B = [],[] # vectores para llenar cross entropy\n",
    "\n",
    "# Pruebas cross_entropy algoritmos manuales\n",
    "# --------- con softmax\n",
    "for k in range(len(Y)):\n",
    "    if Y[k] == 1:\n",
    "        A.append(np.log(pro[k]))\n",
    "    else:\n",
    "        A.append(np.log(1-pro[k]))\n",
    "A = np.array(A)\n",
    "c_ent = -1*np.sum(A)\n",
    "\n",
    "# -------  con sigmode\n",
    "for k in range(len(Y)):\n",
    "    if Y[k] == 1:\n",
    "        B.append(np.log(pro1[k]))\n",
    "    else:\n",
    "        B.append(np.log(1-pro1[k]))\n",
    "B = np.array(B)\n",
    "c1_ent = -1*np.sum(B)\n",
    "# ------------------------------------- Prueba cross entropy con la funcion creada\n",
    "\"\"\" FUNCION CROSS_ENTROPY LLAMADO\"\"\"\n",
    "entropia, entropia1 =[],[]\n",
    "label = Y\n",
    "entropia = cross_entropy(\n",
    "    label,\n",
    "    pro,\n",
    ")\n",
    "entropia1 = cross_entropy(\n",
    "    label,\n",
    "    pro1,\n",
    ")\n",
    "\n",
    "print(\"Cross entropy con softmax\",c_ent)\n",
    "print(\"Cross entropy con sigmode\",c1_ent)\n",
    "print(\"Cross entropy funcion\" + \"\\n\" + \"Softmax = {}\\nSigmode = {} \".format(entropia, entropia1))"
   ]
  }
 ],
 "metadata": {
  "kernelspec": {
   "display_name": "Python 3",
   "language": "python",
   "name": "python3"
  },
  "language_info": {
   "codemirror_mode": {
    "name": "ipython",
    "version": 3
   },
   "file_extension": ".py",
   "mimetype": "text/x-python",
   "name": "python",
   "nbconvert_exporter": "python",
   "pygments_lexer": "ipython3",
   "version": "3.9.7"
  },
  "vscode": {
   "interpreter": {
    "hash": "0a5fb11be43c85336b7a20b85cbb8582ffdcc3ca7ff4b1725a5ff451a8c13158"
   }
  }
 },
 "nbformat": 4,
 "nbformat_minor": 5
}
