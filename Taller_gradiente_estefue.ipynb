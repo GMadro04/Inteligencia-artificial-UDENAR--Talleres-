{
 "cells": [
  {
   "cell_type": "code",
   "execution_count": 27,
   "metadata": {},
   "outputs": [
    {
     "name": "stdout",
     "output_type": "stream",
     "text": [
      "Tamaño archivo: (100, 3) \n",
      " ------------------------- \n",
      "           X         W  b\n",
      "0   0.78051 -0.063669  1\n",
      "1   0.28774  0.291390  1\n",
      "2   0.40714  0.178780  1\n",
      "3   0.29230  0.421700  1\n",
      "4   0.50922  0.352560  1\n",
      "..      ...       ... ..\n",
      "95  0.77029  0.701400  0\n",
      "96  0.73156  0.717820  0\n",
      "97  0.44556  0.579910  0\n",
      "98  0.85275  0.859870  0\n",
      "99  0.51912  0.623590  0\n",
      "\n",
      "[100 rows x 3 columns]\n",
      "(100, 1) (100, 2)\n"
     ]
    }
   ],
   "source": [
    "import pandas as pd\n",
    "import numpy as np\n",
    "import matplotlib.pyplot as plt\n",
    "\n",
    "%matplotlib inline\n",
    "np.random.seed(42)\n",
    "\n",
    "file_csv = 'data.csv' # Cargo el archivo con los datos X1,X2 y Salida.\n",
    "\n",
    "data = pd.read_csv(file_csv) # Guardo datos del archivo en una variable \n",
    "\n",
    "print(\"Tamaño archivo:\",data.shape, \"\\n\", \"-------------------------\", \"\\n\", data)\n",
    "\n",
    "# Lleno los datos X_test(x1,x2) y Y_test \n",
    "data = np.array(data)\n",
    "#print(data)\n",
    "X_test=[]\n",
    "y_test=[]\n",
    "for i in range(len(data)):\n",
    "    X_test.append([data[i,0],data[i,1]])\n",
    "    y_test.append([data[i,2]])\n",
    "\n",
    "X_test = np.array(X_test) # Puntos de entrada \n",
    "y_test = np.array(y_test) # valor de clasificación \n",
    "print(y_test.shape,X_test.shape)"
   ]
  },
  {
   "cell_type": "code",
   "execution_count": 28,
   "metadata": {},
   "outputs": [
    {
     "name": "stdout",
     "output_type": "stream",
     "text": [
      "Pesos y Bias iniciales: \n",
      " Pesos:  [3.74540119] [9.50714306] Bias:  7.319939418114051\n"
     ]
    }
   ],
   "source": [
    "\"\"\"PARAMETROS INICIALES DEL PERCEPTRON PESOS Y BIAS\"\"\"\n",
    "W_test = np.random.uniform(0,10,size=(2,1))\n",
    "b_test = np.random.uniform(0,10)\n",
    "print(\"Pesos y Bias iniciales:\", \"\\n\",\n",
    "      \"Pesos: \",W_test[0,:],W_test[1,:],\"Bias: \",b_test)"
   ]
  },
  {
   "cell_type": "code",
   "execution_count": 29,
   "metadata": {},
   "outputs": [],
   "source": [
    "\"\"\"FUNCIONES PARA UDAR EN EL EJERCICIO\"\"\"\n",
    "#----- Funcion Score ------\n",
    "def score(X, W, b):\n",
    "    return (np.matmul(X, W))+b\n",
    "# ----Funcion sigmoid -----\n",
    "def sigmoid(x):\n",
    "    return (1)/(1+np.exp(-x))\n",
    "# ----Funcion del error ------\n",
    "def error_func(y, p, m):\n",
    "    return -(1/m)*np.sum((1-y)*(np.log(1-p))+y*np.log(p))\n",
    "# ---Funcion del gradiente\n",
    "def gradiente_ajuste(X, W, b, y, p, lr):\n",
    "    for i in range(len(X)):\n",
    "        for j in range(len(W)):\n",
    "            W[j, :] = W[j, :] - lr*(p[i, :]-y[i, :])*X[i, j]\n",
    "            b = b - lr*(p[i, :]-y[i, :])\n",
    "    return W, b"
   ]
  },
  {
   "cell_type": "code",
   "execution_count": 30,
   "metadata": {},
   "outputs": [
    {
     "name": "stdout",
     "output_type": "stream",
     "text": [
      "El error de la primera prediccion es:  8.267602572378923\n"
     ]
    }
   ],
   "source": [
    "\"\"\" CALCULO DEL SCORE Y PROBABILIDAD \"\"\"\n",
    "pro = score(X_test, W_test, b_test)  # Score\n",
    "pred = sigmoid(pro)  # Prababilidades de los score\n",
    "\n",
    "# Se calcula el error de los puntos y del test\n",
    "error = error_func(y_test, pred, len(X_test))\n",
    "print('El error de la primera prediccion es: ', error)"
   ]
  },
  {
   "cell_type": "code",
   "execution_count": 31,
   "metadata": {},
   "outputs": [
    {
     "name": "stdout",
     "output_type": "stream",
     "text": [
      "Error despues de aplicar descenso del gradiente:  2.4580254084722934\n",
      "Pesos y bias ajustados \n",
      " Pesos: [1.00110663] [6.711114] \n",
      " Bias: [-0.67985899]\n",
      "Error despues de aplicar descenso del gradiente:  1.5913069827807862\n",
      "Pesos y bias ajustados \n",
      " Pesos: [0.38023449] [6.05529385] \n",
      " Bias: [-2.31548808]\n"
     ]
    }
   ],
   "source": [
    "\"\"\" AJUSTE DE LOS PESOS Y BIAS y ERROR\"\"\"\n",
    "\n",
    "# Se ajustan los pesos y bias y el error con el gradiente\n",
    "W_a, b_a = gradiente_ajuste(X_test, W_test, b_test, y_test, pred, 0.08)\n",
    "#Se vuelve a calcular la prediccion con los nuevos pesos y bias\n",
    "pred1 = sigmoid(score(X_test, W_a, b_a))  # Probabiliades de lso puntos\n",
    "# Se calcula nuevamente el error para mirar si el algoritmo mejoro la predicción\n",
    "error1 = error_func(y_test, pred1, len(X_test))\n",
    "\n",
    "# Se imprimen los resultados al aplicar el algoritmo del gradiente y el error de la segunda predicción\n",
    "print('Error despues de aplicar descenso del gradiente: ', error1)\n",
    "print(\"Pesos y bias ajustados\", \"\\n\", \"Pesos:\",W_a[0, :], W_a[1, :], \"\\n\", \"Bias:\", b_a)\n",
    "\n",
    "# ------Tercer intetno para bajar el error y aplicar el algoritmo del gradiente\n",
    "W_f, b_f = gradiente_ajuste(X_test, W_a, b_a, y_test, pred1, 0.02)\n",
    "pred2 = sigmoid(score(X_test, W_f, b_f))\n",
    "error2 = error_func(y_test, pred2, len(X_test))\n",
    "\n",
    "print('Error despues de aplicar descenso del gradiente: ', error2)\n",
    "print(\"Pesos y bias ajustados\", \"\\n\", \"Pesos:\",W_f[0, :], W_f[1, :], \"\\n\", \"Bias:\", b_f)\n"
   ]
  },
  {
   "cell_type": "code",
   "execution_count": 32,
   "metadata": {},
   "outputs": [
    {
     "name": "stdout",
     "output_type": "stream",
     "text": [
      "(3, 100) 3\n"
     ]
    },
    {
     "data": {
      "text/plain": [
       "[<matplotlib.lines.Line2D at 0x191d604ff70>]"
      ]
     },
     "execution_count": 32,
     "metadata": {},
     "output_type": "execute_result"
    },
    {
     "data": {
      "image/png": "[encoded data removed]",
      "text/plain": [
       "<Figure size 432x288 with 1 Axes>"
      ]
     },
     "metadata": {
      "needs_background": "light"
     },
     "output_type": "display_data"
    }
   ],
   "source": [
    "\"\"\"GRAFICAS DEL EJERCICIO\"\"\"\n",
    "x1 = np.arange(0, 1, 0.01)  # vector pountos para la recta\n",
    "# Se crean las rectas de decision con los resultados del ejercicio y se guardan en un array\n",
    "rectas = np.array([-(1/W_test[1, :])*(W_test[0, :]*x1+b_test), -\n",
    "        (1/W_a[1, :])*(W_a[0, :]*x1+b_a), -(1/W_f[1, :])*(W_f[0, :]*x1+b_f)])\n",
    "\n",
    "print(rectas.shape, len(rectas))\n",
    "\n",
    "# Se establecen las clases de los puntos y se difrencias con un color\n",
    "red_point = data[np.argwhere(y_test == 0).flatten()]\n",
    "blue_point = data[np.argwhere(y_test == 1).flatten()]\n",
    "# Se grafican los puntos y las rectas para visualizar los resultados del ejercicio\n",
    "plt.scatter(red_point[:, 0], red_point[:, 1], color=\"red\", edgecolors='k')\n",
    "plt.scatter(blue_point[:, 0], blue_point[:, 1], color=\"blue\", edgecolors='k')\n",
    "plt.plot(x1, rectas[0, :])\n",
    "plt.plot(x1, rectas[1, :])\n",
    "plt.plot(x1, rectas[2, :])\n"
   ]
  },
  {
   "cell_type": "code",
   "execution_count": 36,
   "metadata": {},
   "outputs": [
    {
     "name": "stdout",
     "output_type": "stream",
     "text": [
      "------------------------------ Epoca 1 ----------------------------------------- \n",
      "Pesos: [-11.77564426][-12.17054287] ---- Bias: [7.33053362] ---- Train_loss: 0.945284405260118\n",
      "------------------------------ Epoca 2 ----------------------------------------- \n",
      "Pesos: [-10.74580577][-11.15981897] ---- Bias: [12.316888] ---- Train_loss: 0.1627441148343904\n",
      "------------------------------ Epoca 3 ----------------------------------------- \n",
      "Pesos: [-10.96776498][-11.38125797] ---- Bias: [11.57626666] ---- Train_loss: 0.14451931902387494\n",
      "------------------------------ Epoca 4 ----------------------------------------- \n",
      "Pesos: [-10.9395399][-11.35586272] ---- Bias: [11.74774257] ---- Train_loss: 0.14364401238351543\n",
      "------------------------------ Epoca 5 ----------------------------------------- \n",
      "Pesos: [-10.95934802][-11.37843326] ---- Bias: [11.73577308] ---- Train_loss: 0.1435564439003006\n",
      "------------------------------ Epoca 6 ----------------------------------------- \n",
      "Pesos: [-10.97072032][-11.39259976] ---- Bias: [11.75528488] ---- Train_loss: 0.14349261213041892\n",
      "------------------------------ Epoca 7 ----------------------------------------- \n",
      "Pesos: [-10.98347869][-11.40814673] ---- Bias: [11.76918505] ---- Train_loss: 0.14343017602415908\n",
      "------------------------------ Epoca 8 ----------------------------------------- \n",
      "Pesos: [-10.99590892][-11.42336574] ---- Bias: [11.7839603] ---- Train_loss: 0.14336843329245372\n",
      "------------------------------ Epoca 9 ----------------------------------------- \n",
      "Pesos: [-11.00830764][-11.43855234] ---- Bias: [11.79849253] ---- Train_loss: 0.14330735335203693\n",
      "------------------------------ Epoca 10 ----------------------------------------- \n",
      "Pesos: [-11.02062498][-11.45365677] ---- Bias: [11.8129738] ---- Train_loss: 0.1432469259544163\n",
      "------------------------------ Epoca 11 ----------------------------------------- \n",
      "Pesos: [-11.03287023][-11.46868823] ---- Bias: [11.82737242] ---- Train_loss: 0.1431871416279535\n",
      "------------------------------ Epoca 12 ----------------------------------------- \n",
      "Pesos: [-11.04504263][-11.48364594] ---- Bias: [11.84169454] ---- Train_loss: 0.1431279910957876\n",
      "------------------------------ Epoca 13 ----------------------------------------- \n",
      "Pesos: [-11.05714314][-11.49853078] ---- Bias: [11.85593998] ---- Train_loss: 0.14306946525503372\n",
      "------------------------------ Epoca 14 ----------------------------------------- \n",
      "Pesos: [-11.06917239][-11.51334332] ---- Bias: [11.87010958] ---- Train_loss: 0.14301155517228423\n",
      "------------------------------ Epoca 15 ----------------------------------------- \n",
      "Pesos: [-11.08113106][-11.5280842] ---- Bias: [11.884204] ---- Train_loss: 0.1429542520796917\n",
      "------------------------------ Epoca 16 ----------------------------------------- \n",
      "Pesos: [-11.09301981][-11.54275403] ---- Bias: [11.89822391] ---- Train_loss: 0.14289754737117116\n",
      "------------------------------ Epoca 17 ----------------------------------------- \n",
      "Pesos: [-11.10483932][-11.55735342] ---- Bias: [11.91217] ---- Train_loss: 0.14284143259870719\n",
      "------------------------------ Epoca 18 ----------------------------------------- \n",
      "Pesos: [-11.11659021][-11.57188296] ---- Bias: [11.92604291] ---- Train_loss: 0.14278589946876105\n",
      "------------------------------ Epoca 19 ----------------------------------------- \n",
      "Pesos: [-11.12827313][-11.58634324] ---- Bias: [11.93984329] ---- Train_loss: 0.14273093983877533\n",
      "------------------------------ Epoca 20 ----------------------------------------- \n",
      "Pesos: [-11.13988871][-11.60073483] ---- Bias: [11.9535718] ---- Train_loss: 0.14267654571377386\n",
      "------------------------------ Epoca 21 ----------------------------------------- \n",
      "Pesos: [-11.15143758][-11.61505832] ---- Bias: [11.96722906] ---- Train_loss: 0.14262270924305187\n",
      "------------------------------ Epoca 22 ----------------------------------------- \n",
      "Pesos: [-11.16292034][-11.62931427] ---- Bias: [11.9808157] ---- Train_loss: 0.14256942271695558\n",
      "------------------------------ Epoca 23 ----------------------------------------- \n",
      "Pesos: [-11.1743376][-11.64350322] ---- Bias: [11.99433234] ---- Train_loss: 0.14251667856374733\n",
      "------------------------------ Epoca 24 ----------------------------------------- \n",
      "Pesos: [-11.18568997][-11.65762575] ---- Bias: [12.00777958] ---- Train_loss: 0.1424644693465535\n",
      "------------------------------ Epoca 25 ----------------------------------------- \n",
      "Pesos: [-11.19697802][-11.67168238] ---- Bias: [12.02115802] ---- Train_loss: 0.142412787760394\n",
      "------------------------------ Epoca 26 ----------------------------------------- \n",
      "Pesos: [-11.20820235][-11.68567365] ---- Bias: [12.03446826] ---- Train_loss: 0.14236162662928883\n",
      "------------------------------ Epoca 27 ----------------------------------------- \n",
      "Pesos: [-11.21936353][-11.6996001] ---- Bias: [12.04771088] ---- Train_loss: 0.14231097890344097\n",
      "------------------------------ Epoca 28 ----------------------------------------- \n",
      "Pesos: [-11.23046212][-11.71346225] ---- Bias: [12.06088646] ---- Train_loss: 0.14226083765649256\n",
      "------------------------------ Epoca 29 ----------------------------------------- \n",
      "Pesos: [-11.24149869][-11.7272606] ---- Bias: [12.07399557] ---- Train_loss: 0.14221119608285246\n",
      "------------------------------ Epoca 30 ----------------------------------------- \n",
      "Pesos: [-11.25247379][-11.74099568] ---- Bias: [12.08703878] ---- Train_loss: 0.14216204749509248\n",
      "------------------------------ Epoca 31 ----------------------------------------- \n",
      "Pesos: [-11.26338797][-11.75466798] ---- Bias: [12.10001663] ---- Train_loss: 0.14211338532141077\n",
      "------------------------------ Epoca 32 ----------------------------------------- \n",
      "Pesos: [-11.27424176][-11.768278] ---- Bias: [12.11292969] ---- Train_loss: 0.1420652031031605\n",
      "------------------------------ Epoca 33 ----------------------------------------- \n",
      "Pesos: [-11.28503571][-11.78182623] ---- Bias: [12.12577848] ---- Train_loss: 0.14201749449244122\n",
      "------------------------------ Epoca 34 ----------------------------------------- \n",
      "Pesos: [-11.29577032][-11.79531316] ---- Bias: [12.13856355] ---- Train_loss: 0.14197025324975132\n",
      "------------------------------ Epoca 35 ----------------------------------------- \n",
      "Pesos: [-11.30644613][-11.80873926] ---- Bias: [12.15128543] ---- Train_loss: 0.14192347324170052\n",
      "------------------------------ Epoca 36 ----------------------------------------- \n",
      "Pesos: [-11.31706365][-11.82210501] ---- Bias: [12.16394463] ---- Train_loss: 0.1418771484387788\n",
      "------------------------------ Epoca 37 ----------------------------------------- \n",
      "Pesos: [-11.32762339][-11.83541087] ---- Bias: [12.17654168] ---- Train_loss: 0.14183127291318257\n",
      "------------------------------ Epoca 38 ----------------------------------------- \n",
      "Pesos: [-11.33812583][-11.84865731] ---- Bias: [12.18907707] ---- Train_loss: 0.1417858408366945\n",
      "------------------------------ Epoca 39 ----------------------------------------- \n",
      "Pesos: [-11.34857149][-11.86184477] ---- Bias: [12.20155132] ---- Train_loss: 0.1417408464786157\n",
      "------------------------------ Epoca 40 ----------------------------------------- \n",
      "Pesos: [-11.35896084][-11.87497371] ---- Bias: [12.21396492] ---- Train_loss: 0.14169628420375005\n",
      "------------------------------ Epoca 41 ----------------------------------------- \n",
      "Pesos: [-11.36929438][-11.88804458] ---- Bias: [12.22631837] ---- Train_loss: 0.14165214847043753\n",
      "------------------------------ Epoca 42 ----------------------------------------- \n",
      "Pesos: [-11.37957257][-11.90105781] ---- Bias: [12.23861214] ---- Train_loss: 0.14160843382863605\n",
      "------------------------------ Epoca 43 ----------------------------------------- \n",
      "Pesos: [-11.38979589][-11.91401383] ---- Bias: [12.25084672] ---- Train_loss: 0.14156513491805037\n",
      "------------------------------ Epoca 44 ----------------------------------------- \n",
      "Pesos: [-11.3999648][-11.92691308] ---- Bias: [12.26302257] ---- Train_loss: 0.14152224646630646\n",
      "------------------------------ Epoca 45 ----------------------------------------- \n",
      "Pesos: [-11.41007976][-11.93975598] ---- Bias: [12.27514018] ---- Train_loss: 0.14147976328716994\n",
      "------------------------------ Epoca 46 ----------------------------------------- \n",
      "Pesos: [-11.42014122][-11.95254294] ---- Bias: [12.28719999] ---- Train_loss: 0.14143768027880838\n",
      "------------------------------ Epoca 47 ----------------------------------------- \n",
      "Pesos: [-11.43014964][-11.96527439] ---- Bias: [12.29920247] ---- Train_loss: 0.14139599242209402\n",
      "------------------------------ Epoca 48 ----------------------------------------- \n",
      "Pesos: [-11.44010546][-11.97795073] ---- Bias: [12.31114807] ---- Train_loss: 0.14135469477894919\n",
      "------------------------------ Epoca 49 ----------------------------------------- \n",
      "Pesos: [-11.45000912][-11.99057236] ---- Bias: [12.32303722] ---- Train_loss: 0.14131378249072885\n",
      "------------------------------ Epoca 50 ----------------------------------------- \n",
      "Pesos: [-11.45986104][-12.00313969] ---- Bias: [12.33487039] ---- Train_loss: 0.1412732507766438\n",
      "------------------------------ Epoca 51 ----------------------------------------- \n",
      "Pesos: [-11.46966166][-12.0156531] ---- Bias: [12.34664799] ---- Train_loss: 0.1412330949322198\n",
      "------------------------------ Epoca 52 ----------------------------------------- \n",
      "Pesos: [-11.4794114][-12.02811299] ---- Bias: [12.35837046] ---- Train_loss: 0.14119331032779378\n",
      "------------------------------ Epoca 53 ----------------------------------------- \n",
      "Pesos: [-11.48911068][-12.04051975] ---- Bias: [12.37003823] ---- Train_loss: 0.14115389240704487\n",
      "------------------------------ Epoca 54 ----------------------------------------- \n",
      "Pesos: [-11.4987599][-12.05287376] ---- Bias: [12.38165171] ---- Train_loss: 0.1411148366855605\n",
      "------------------------------ Epoca 55 ----------------------------------------- \n",
      "Pesos: [-11.50835949][-12.06517539] ---- Bias: [12.39321133] ---- Train_loss: 0.14107613874943517\n",
      "------------------------------ Epoca 56 ----------------------------------------- \n",
      "Pesos: [-11.51790984][-12.07742502] ---- Bias: [12.40471749] ---- Train_loss: 0.14103779425390248\n",
      "------------------------------ Epoca 57 ----------------------------------------- \n",
      "Pesos: [-11.52741135][-12.08962301] ---- Bias: [12.4161706] ---- Train_loss: 0.14099979892199838\n",
      "------------------------------ Epoca 58 ----------------------------------------- \n",
      "Pesos: [-11.53686442][-12.10176973] ---- Bias: [12.42757106] ---- Train_loss: 0.14096214854325523\n",
      "------------------------------ Epoca 59 ----------------------------------------- \n",
      "Pesos: [-11.54626943][-12.11386555] ---- Bias: [12.43891927] ---- Train_loss: 0.1409248389724261\n",
      "------------------------------ Epoca 60 ----------------------------------------- \n",
      "Pesos: [-11.55562677][-12.12591081] ---- Bias: [12.45021561] ---- Train_loss: 0.14088786612823842\n",
      "------------------------------ Epoca 61 ----------------------------------------- \n",
      "Pesos: [-11.56493683][-12.13790587] ---- Bias: [12.46146049] ---- Train_loss: 0.14085122599217503\n",
      "------------------------------ Epoca 62 ----------------------------------------- \n",
      "Pesos: [-11.57419997][-12.14985109] ---- Bias: [12.47265429] ---- Train_loss: 0.14081491460728454\n",
      "------------------------------ Epoca 63 ----------------------------------------- \n",
      "Pesos: [-11.58341658][-12.1617468] ---- Bias: [12.48379737] ---- Train_loss: 0.1407789280770169\n",
      "------------------------------ Epoca 64 ----------------------------------------- \n",
      "Pesos: [-11.59258702][-12.17359334] ---- Bias: [12.49489013] ---- Train_loss: 0.1407432625640864\n",
      "------------------------------ Epoca 65 ----------------------------------------- \n",
      "Pesos: [-11.60171166][-12.18539106] ---- Bias: [12.50593292] ---- Train_loss: 0.14070791428935991\n",
      "------------------------------ Epoca 66 ----------------------------------------- \n",
      "Pesos: [-11.61079085][-12.19714029] ---- Bias: [12.51692613] ---- Train_loss: 0.14067287953076954\n",
      "------------------------------ Epoca 67 ----------------------------------------- \n",
      "Pesos: [-11.61982495][-12.20884135] ---- Bias: [12.5278701] ---- Train_loss: 0.14063815462225016\n",
      "------------------------------ Epoca 68 ----------------------------------------- \n",
      "Pesos: [-11.62881431][-12.22049458] ---- Bias: [12.53876521] ---- Train_loss: 0.14060373595270004\n",
      "------------------------------ Epoca 69 ----------------------------------------- \n",
      "Pesos: [-11.63775929][-12.2321003] ---- Bias: [12.5496118] ---- Train_loss: 0.14056961996496484\n",
      "------------------------------ Epoca 70 ----------------------------------------- \n",
      "Pesos: [-11.64666023][-12.24365883] ---- Bias: [12.56041023] ---- Train_loss: 0.14053580315484362\n",
      "------------------------------ Epoca 71 ----------------------------------------- \n",
      "Pesos: [-11.65551746][-12.25517048] ---- Bias: [12.57116084] ---- Train_loss: 0.14050228207011708\n",
      "------------------------------ Epoca 72 ----------------------------------------- \n",
      "Pesos: [-11.66433133][-12.26663557] ---- Bias: [12.58186399] ---- Train_loss: 0.14046905330959666\n",
      "------------------------------ Epoca 73 ----------------------------------------- \n",
      "Pesos: [-11.67310217][-12.2780544] ---- Bias: [12.59252] ---- Train_loss: 0.14043611352219473\n",
      "------------------------------ Epoca 74 ----------------------------------------- \n",
      "Pesos: [-11.68183031][-12.2894273] ---- Bias: [12.60312922] ---- Train_loss: 0.14040345940601484\n",
      "------------------------------ Epoca 75 ----------------------------------------- \n",
      "Pesos: [-11.69051608][-12.30075455] ---- Bias: [12.61369198] ---- Train_loss: 0.14037108770746146\n",
      "------------------------------ Epoca 76 ----------------------------------------- \n",
      "Pesos: [-11.69915979][-12.31203646] ---- Bias: [12.62420861] ---- Train_loss: 0.1403389952203692\n",
      "------------------------------ Epoca 77 ----------------------------------------- \n",
      "Pesos: [-11.70776177][-12.32327332] ---- Bias: [12.63467944] ---- Train_loss: 0.14030717878515073\n",
      "------------------------------ Epoca 78 ----------------------------------------- \n",
      "Pesos: [-11.71632233][-12.33446544] ---- Bias: [12.64510478] ---- Train_loss: 0.1402756352879628\n",
      "------------------------------ Epoca 79 ----------------------------------------- \n",
      "Pesos: [-11.7248418][-12.3456131] ---- Bias: [12.65548497] ---- Train_loss: 0.14024436165989013\n",
      "------------------------------ Epoca 80 ----------------------------------------- \n",
      "Pesos: [-11.73332046][-12.35671658] ---- Bias: [12.6658203] ---- Train_loss: 0.14021335487614647\n",
      "------------------------------ Epoca 81 ----------------------------------------- \n",
      "Pesos: [-11.74175864][-12.36777619] ---- Bias: [12.67611111] ---- Train_loss: 0.14018261195529305\n",
      "------------------------------ Epoca 82 ----------------------------------------- \n",
      "Pesos: [-11.75015664][-12.37879219] ---- Bias: [12.68635769] ---- Train_loss: 0.14015212995847307\n",
      "------------------------------ Epoca 83 ----------------------------------------- \n",
      "Pesos: [-11.75851475][-12.38976487] ---- Bias: [12.69656035] ---- Train_loss: 0.14012190598866256\n",
      "------------------------------ Epoca 84 ----------------------------------------- \n",
      "Pesos: [-11.76683327][-12.4006945] ---- Bias: [12.7067194] ---- Train_loss: 0.14009193718993662\n",
      "------------------------------ Epoca 85 ----------------------------------------- \n",
      "Pesos: [-11.7751125][-12.41158136] ---- Bias: [12.71683513] ---- Train_loss: 0.14006222074675168\n",
      "------------------------------ Epoca 86 ----------------------------------------- \n",
      "Pesos: [-11.78335272][-12.42242572] ---- Bias: [12.72690785] ---- Train_loss: 0.1400327538832418\n",
      "------------------------------ Epoca 87 ----------------------------------------- \n",
      "Pesos: [-11.79155423][-12.43322785] ---- Bias: [12.73693784] ---- Train_loss: 0.14000353386253017\n",
      "------------------------------ Epoca 88 ----------------------------------------- \n",
      "Pesos: [-11.7997173][-12.44398801] ---- Bias: [12.7469254] ---- Train_loss: 0.13997455798605493\n",
      "------------------------------ Epoca 89 ----------------------------------------- \n",
      "Pesos: [-11.80784222][-12.45470647] ---- Bias: [12.75687082] ---- Train_loss: 0.13994582359290828\n",
      "------------------------------ Epoca 90 ----------------------------------------- \n",
      "Pesos: [-11.81592926][-12.46538349] ---- Bias: [12.76677438] ---- Train_loss: 0.13991732805918994\n",
      "------------------------------ Epoca 91 ----------------------------------------- \n",
      "Pesos: [-11.82397872][-12.47601932] ---- Bias: [12.77663636] ---- Train_loss: 0.13988906879737323\n",
      "------------------------------ Epoca 92 ----------------------------------------- \n",
      "Pesos: [-11.83199084][-12.48661423] ---- Bias: [12.78645704] ---- Train_loss: 0.1398610432556841\n",
      "------------------------------ Epoca 93 ----------------------------------------- \n",
      "Pesos: [-11.83996591][-12.49716846] ---- Bias: [12.79623671] ---- Train_loss: 0.1398332489174935\n",
      "------------------------------ Epoca 94 ----------------------------------------- \n",
      "Pesos: [-11.8479042][-12.50768227] ---- Bias: [12.80597563] ---- Train_loss: 0.13980568330072116\n",
      "------------------------------ Epoca 95 ----------------------------------------- \n",
      "Pesos: [-11.85580596][-12.51815591] ---- Bias: [12.81567407] ---- Train_loss: 0.13977834395725197\n",
      "------------------------------ Epoca 96 ----------------------------------------- \n",
      "Pesos: [-11.86367147][-12.52858961] ---- Bias: [12.8253323] ---- Train_loss: 0.139751228472364\n",
      "------------------------------ Epoca 97 ----------------------------------------- \n",
      "Pesos: [-11.87150097][-12.53898363] ---- Bias: [12.8349506] ---- Train_loss: 0.1397243344641673\n",
      "------------------------------ Epoca 98 ----------------------------------------- \n",
      "Pesos: [-11.87929473][-12.54933821] ---- Bias: [12.84452922] ---- Train_loss: 0.1396976595830559\n",
      "------------------------------ Epoca 99 ----------------------------------------- \n",
      "Pesos: [-11.887053][-12.55965358] ---- Bias: [12.85406842] ---- Train_loss: 0.1396712015111681\n",
      "------------------------------ Epoca 100 ----------------------------------------- \n",
      "Pesos: [-11.89477604][-12.56992998] ---- Bias: [12.86356846] ---- Train_loss: 0.13964495796185936\n"
     ]
    },
    {
     "data": {
      "image/png": "[encoded data removed]",
      "text/plain": [
       "<Figure size 432x288 with 1 Axes>"
      ]
     },
     "metadata": {
      "needs_background": "light"
     },
     "output_type": "display_data"
    },
    {
     "data": {
      "image/png": "[encoded data removed]",
      "text/plain": [
       "<Figure size 432x288 with 1 Axes>"
      ]
     },
     "metadata": {
      "needs_background": "light"
     },
     "output_type": "display_data"
    },
    {
     "data": {
      "text/plain": [
       "<matplotlib.collections.PathCollection at 0x191d6515a00>"
      ]
     },
     "execution_count": 36,
     "metadata": {},
     "output_type": "execute_result"
    },
    {
     "data": {
      "image/png": "[encoded data removed]",
      "text/plain": [
       "<Figure size 432x288 with 1 Axes>"
      ]
     },
     "metadata": {
      "needs_background": "light"
     },
     "output_type": "display_data"
    }
   ],
   "source": [
    "\"\"\"ENTRENAMIENTO DEL PERCEPTRON\"\"\" \n",
    "epoch = 100 # Epocas de entrenamiento\n",
    "comodin = 1 # variable para controlar la primera vez que entra al entrenamiento con los párametros iniciales\n",
    "W, b, loss = [], [], [] # listas para llenar pesos y el resultado del error\n",
    "for i in range(epoch):\n",
    "    if comodin == 1:\n",
    "        comodin = 0\n",
    "        W, b = gradiente_ajuste(X_test, W_test, b_test, y_test, pred, 0.08)\n",
    "        pred = sigmoid(score(X_test, W, b))  # se calcula la prediccion\n",
    "        error = error_func(y_test, pred, len(X_test))  # se calcula el error\n",
    "        # error = error_func(y_test, pred)  # se calcula el error\n",
    "        loss.append(error)  # Se guardan los errores del entrenamiento\n",
    "    else:\n",
    "        # ------------ implementación de los algoritmos --------------------------\n",
    "        # saco los pesos y bias del ajuste con gradiente\n",
    "        W, b = gradiente_ajuste(X_test, W, b, y_test, pred, 0.08)\n",
    "        pred = sigmoid(score(X_test, W, b))  # se calcula la prediccion\n",
    "        error = error_func(y_test, pred, len(X_test))  # se calcula el error\n",
    "        # error = error_func(y_test, pred)  # se calcula el error\n",
    "        loss.append(error)  # Se guardan los errores del entrenamiento\n",
    "\n",
    "    print('------------------------------ Epoca {} ----------------------------------------- '.format(i+1))\n",
    "    print(\n",
    "        \"Pesos: {}{} ---- Bias: {} ---- Train_loss: {}\".format(W[0, :], W[1, :], b, error))\n",
    "\n",
    "    rectas = -(1/W[1])*(W[0]*x1+b)  # Rectas del entrenamiento\n",
    "    plt.plot(x1, rectas)\n",
    "    plt.ylim(0, 1.05)\n",
    "    plt.scatter(red_point[:, 0], red_point[:, 1], color=\"red\", edgecolors='k')\n",
    "    plt.scatter(blue_point[:, 0], blue_point[:, 1],color=\"blue\", edgecolors='k')\n",
    "\n",
    "# Grafica del Error\n",
    "plt.figure()\n",
    "plt.title(\"Error Plot\")\n",
    "plt.xlabel('Number of epochs')\n",
    "plt.ylabel('Error')\n",
    "plt.plot(loss)\n",
    "plt.show()\n",
    "\n",
    "# Solución del ejercicio\n",
    "plt.figure()\n",
    "plt.title(\"Solucion del ejercicio\")\n",
    "plt.plot(x1, -(1/-11.35513683)*(-11.51829679*x1+12.0242339))\n",
    "plt.ylim(0, 1.05)\n",
    "plt.scatter(red_point[:, 0], red_point[:, 1], color=\"red\", edgecolors='k')\n",
    "plt.scatter(blue_point[:, 0], blue_point[:, 1],color=\"blue\", edgecolors='k')"
   ]
  }
 ],
 "metadata": {
  "kernelspec": {
   "display_name": "Python 3",
   "language": "python",
   "name": "python3"
  },
  "language_info": {
   "codemirror_mode": {
    "name": "ipython",
    "version": 3
   },
   "file_extension": ".py",
   "mimetype": "text/x-python",
   "name": "python",
   "nbconvert_exporter": "python",
   "pygments_lexer": "ipython3",
   "version": "3.9.7"
  },
  "orig_nbformat": 4
 },
 "nbformat": 4,
 "nbformat_minor": 2
}
